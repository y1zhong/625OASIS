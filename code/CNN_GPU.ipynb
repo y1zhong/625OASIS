{
  "cells": [
    {
      "cell_type": "markdown",
      "metadata": {
        "id": "tMce8muBqXQP"
      },
      "source": [
        "# Convolutional Neural Network with Imaging Data\n",
        "\n",
        "This notebook provides a CNN model with VGG architecutre to train MRI brain data to classify CDR diagnosis results.\n",
        "\n"
      ]
    },
    {
      "cell_type": "code",
      "source": [
        "from google.colab import drive\n",
        "drive.mount('/content/gdrive')"
      ],
      "metadata": {
        "colab": {
          "base_uri": "https://localhost:8080/"
        },
        "id": "qn-9wHyGNCyr",
        "outputId": "542b1b6d-d2bc-4248-97d4-0bba5e7f80b0"
      },
      "execution_count": 1,
      "outputs": [
        {
          "output_type": "stream",
          "name": "stdout",
          "text": [
            "Mounted at /content/gdrive\n"
          ]
        }
      ]
    },
    {
      "cell_type": "code",
      "source": [
        "#read data\n",
        "import numpy as np\n",
        "train_x = np.load(\"/content/gdrive/MyDrive/biostat625Final/image_train_x_cut_middle.npy\")\n",
        "train_y = np.load(\"/content/gdrive/MyDrive/biostat625Final/image_train_y_cut_middle.npy\")\n",
        "test_x = np.load(\"/content/gdrive/MyDrive/biostat625Final/image_test_x_cut_middle.npy\")\n",
        "test_y = np.load(\"/content/gdrive/MyDrive/biostat625Final/image_test_y_cut_middle.npy\")\n",
        "  "
      ],
      "metadata": {
        "id": "ZLxk-ThcKIXJ"
      },
      "execution_count": 2,
      "outputs": []
    },
    {
      "cell_type": "code",
      "source": [
        "#reshape \n",
        "train_x = train_x.reshape((160,176,208,88,1))\n",
        "test_x = test_x.reshape((38,176,208,88,1))"
      ],
      "metadata": {
        "id": "0LI4qhvhCBEd"
      },
      "execution_count": 4,
      "outputs": []
    },
    {
      "cell_type": "code",
      "source": [
        "import numpy as np\n",
        "import tensorflow as tf\n",
        "from tensorflow import keras\n",
        "from tensorflow.keras import layers"
      ],
      "metadata": {
        "id": "EgyOMIw0Q0kL"
      },
      "execution_count": 6,
      "outputs": []
    },
    {
      "cell_type": "code",
      "source": [
        "#divide by train and validation sets\n",
        "from tensorflow.data import Dataset\n",
        "count_training=128\n",
        "train_ds = Dataset.from_tensor_slices((train_x[:count_training], train_y[:count_training]))\n",
        "validation_ds = Dataset.from_tensor_slices((train_x[count_training:], train_y[count_training:]))\n",
        "test_ds = Dataset.from_tensor_slices((test_x, test_y)) "
      ],
      "metadata": {
        "id": "KYZ1CG5Iqheh"
      },
      "execution_count": 8,
      "outputs": []
    },
    {
      "cell_type": "code",
      "execution_count": 62,
      "metadata": {
        "colab": {
          "base_uri": "https://localhost:8080/"
        },
        "id": "Y04m-jvKRDsJ",
        "outputId": "b9f23e1e-d6af-49a5-9bdb-8bfcecc92e36"
      },
      "outputs": [
        {
          "output_type": "stream",
          "name": "stdout",
          "text": [
            "Model: \"3dcnn\"\n",
            "_________________________________________________________________\n",
            " Layer (type)                Output Shape              Param #   \n",
            "=================================================================\n",
            " input_22 (InputLayer)       [(None, 176, 208, 88, 1)  0         \n",
            "                             ]                                   \n",
            "                                                                 \n",
            " conv3d_149 (Conv3D)         (None, 174, 206, 86, 8)   224       \n",
            "                                                                 \n",
            " max_pooling3d_72 (MaxPoolin  (None, 87, 103, 43, 8)   0         \n",
            " g3D)                                                            \n",
            "                                                                 \n",
            " conv3d_150 (Conv3D)         (None, 85, 101, 41, 16)   3472      \n",
            "                                                                 \n",
            " conv3d_151 (Conv3D)         (None, 83, 99, 39, 16)    6928      \n",
            "                                                                 \n",
            " max_pooling3d_73 (MaxPoolin  (None, 41, 49, 19, 16)   0         \n",
            " g3D)                                                            \n",
            "                                                                 \n",
            " conv3d_152 (Conv3D)         (None, 39, 47, 17, 32)    13856     \n",
            "                                                                 \n",
            " conv3d_153 (Conv3D)         (None, 37, 45, 15, 32)    27680     \n",
            "                                                                 \n",
            " conv3d_154 (Conv3D)         (None, 35, 43, 13, 32)    27680     \n",
            "                                                                 \n",
            " max_pooling3d_74 (MaxPoolin  (None, 17, 21, 6, 32)    0         \n",
            " g3D)                                                            \n",
            "                                                                 \n",
            " conv3d_155 (Conv3D)         (None, 15, 19, 4, 64)     55360     \n",
            "                                                                 \n",
            " conv3d_156 (Conv3D)         (None, 13, 17, 2, 64)     110656    \n",
            "                                                                 \n",
            " max_pooling3d_75 (MaxPoolin  (None, 6, 8, 1, 64)      0         \n",
            " g3D)                                                            \n",
            "                                                                 \n",
            " batch_normalization_19 (Bat  (None, 6, 8, 1, 64)      256       \n",
            " chNormalization)                                                \n",
            "                                                                 \n",
            " flatten_1 (Flatten)         (None, 3072)              0         \n",
            "                                                                 \n",
            " dropout_24 (Dropout)        (None, 3072)              0         \n",
            "                                                                 \n",
            " dense_60 (Dense)            (None, 128)               393344    \n",
            "                                                                 \n",
            " dense_61 (Dense)            (None, 64)                8256      \n",
            "                                                                 \n",
            " dense_62 (Dense)            (None, 4)                 260       \n",
            "                                                                 \n",
            " dense_63 (Dense)            (None, 1)                 5         \n",
            "                                                                 \n",
            "=================================================================\n",
            "Total params: 647,977\n",
            "Trainable params: 647,849\n",
            "Non-trainable params: 128\n",
            "_________________________________________________________________\n"
          ]
        }
      ],
      "source": [
        "#define model\n",
        "def get_model():\n",
        "    inputs = keras.Input((176,208,88,1))\n",
        "    x = layers.Conv3D(filters=8, kernel_size=3, activation=\"relu\")(inputs)\n",
        "    x = layers.Conv3D(filters=8, kernel_size=3, activation=\"relu\")(inputs)\n",
        "    x = layers.MaxPool3D(pool_size=2)(x)\n",
        "    x = layers.Conv3D(filters=16, kernel_size=3, activation='relu')(x)\n",
        "    x = layers.Conv3D(filters=16, kernel_size=3, activation='relu')(x)\n",
        "    x = layers.MaxPool3D(pool_size=2)(x)\n",
        "    x = layers.Conv3D(filters=32, kernel_size=3, activation='relu')(x)\n",
        "    x = layers.Conv3D(filters=32, kernel_size=3, activation='relu')(x)\n",
        "    x = layers.Conv3D(filters=32, kernel_size=3, activation='relu')(x)\n",
        "    x = layers.MaxPool3D(pool_size=2)(x)\n",
        "    x = layers.Conv3D(filters=64, kernel_size=3, activation='relu')(x)\n",
        "    x = layers.Conv3D(filters=64, kernel_size=3, activation='relu')(x)\n",
        "    #x = layers.Conv3D(filters=64, kernel_size=3, activation='relu')(x)\n",
        "    x = layers.MaxPool3D(pool_size=2)(x)\n",
        "    x = layers.BatchNormalization()(x)\n",
        "    #x = basic_inception_layer(x,f1=2,f3=4,f5=8)\n",
        "    #x = layers.GlobalAveragePooling3D()(x)\n",
        "    x = layers.Flatten()(x)\n",
        "    x = layers.Dropout(0.5)(x)\n",
        "    x = layers.Dense(units=128, activation=\"relu\")(x)\n",
        "   # x = layers.Dropout(0.2)(x)\n",
        "    x = layers.Dense(units=64, activation=\"relu\")(x)\n",
        "    x = layers.Dense(units=4, activation=\"relu\")(x)\n",
        "    outputs = layers.Dense(units=1, activation=\"sigmoid\")(x)\n",
        "    \n",
        "    model = keras.Model(inputs, outputs, name=\"3dcnn\")\n",
        "    return model\n",
        "  \n",
        "model = get_model()\n",
        "model.summary()\n",
        "\n"
      ]
    },
    {
      "cell_type": "code",
      "source": [
        "def get_model(width=176, height=208, depth=88):\n",
        "    \"\"\"Build a 3D convolutional neural network model.\"\"\"\n",
        "\n",
        "    inputs = keras.Input((width, height, depth, 1))\n",
        "\n",
        "    x = layers.Conv3D(filters=8, kernel_size=3, activation=\"relu\")(inputs)\n",
        "    x = layers.Conv3D(filters=8, kernel_size=3, activation=\"relu\")(inputs)\n",
        "    x = layers.MaxPool3D(pool_size=2)(x)\n",
        "\n",
        "    x = layers.Conv3D(filters=16, kernel_size=3, activation=\"relu\")(x)\n",
        "    x = layers.Conv3D(filters=16, kernel_size=3, activation=\"relu\")(x)\n",
        "    x = layers.MaxPool3D(pool_size=2)(x)\n",
        "\n",
        "    x = layers.Conv3D(filters=64, kernel_size=3, activation=\"relu\")(x)\n",
        "    x = layers.Conv3D(filters=64, kernel_size=3, activation=\"relu\")(x)\n",
        "    x = layers.MaxPool3D(pool_size=2)(x)\n",
        "\n",
        "    x = layers.Conv3D(filters=128, kernel_size=3, activation=\"relu\")(x)\n",
        "    x = layers.Conv3D(filters=128, kernel_size=3, activation=\"relu\")(x)\n",
        "    x = layers.MaxPool3D(pool_size=2)(x)\n",
        "    x = layers.BatchNormalization()(x)\n",
        "\n",
        "    x = layers.GlobalAveragePooling3D()(x)\n",
        "    x = layers.Dropout(0.3)(x)\n",
        "    x = layers.Dense(units=2048, activation=\"relu\")(x)\n",
        "    x = layers.Dropout(0.5)(x)\n",
        "    x = layers.Dense(units=64, activation=\"relu\")(x)\n",
        "    outputs = layers.Dense(units=1, activation=\"sigmoid\")(x)\n",
        "\n",
        "    # Define the model.\n",
        "    model = keras.Model(inputs, outputs, name=\"3dcnn\")\n",
        "    return model\n",
        "model = get_model()\n",
        "model.summary()"
      ],
      "metadata": {
        "colab": {
          "base_uri": "https://localhost:8080/"
        },
        "id": "tOd0gaX2lmQH",
        "outputId": "95431942-4f27-4f65-e53c-49fcd6bb8bf9"
      },
      "execution_count": 59,
      "outputs": [
        {
          "output_type": "stream",
          "name": "stdout",
          "text": [
            "Model: \"3dcnn\"\n",
            "_________________________________________________________________\n",
            " Layer (type)                Output Shape              Param #   \n",
            "=================================================================\n",
            " input_21 (InputLayer)       [(None, 176, 208, 88, 1)  0         \n",
            "                             ]                                   \n",
            "                                                                 \n",
            " conv3d_141 (Conv3D)         (None, 174, 206, 86, 8)   224       \n",
            "                                                                 \n",
            " max_pooling3d_68 (MaxPoolin  (None, 87, 103, 43, 8)   0         \n",
            " g3D)                                                            \n",
            "                                                                 \n",
            " conv3d_142 (Conv3D)         (None, 85, 101, 41, 16)   3472      \n",
            "                                                                 \n",
            " conv3d_143 (Conv3D)         (None, 83, 99, 39, 16)    6928      \n",
            "                                                                 \n",
            " max_pooling3d_69 (MaxPoolin  (None, 41, 49, 19, 16)   0         \n",
            " g3D)                                                            \n",
            "                                                                 \n",
            " conv3d_144 (Conv3D)         (None, 39, 47, 17, 64)    27712     \n",
            "                                                                 \n",
            " conv3d_145 (Conv3D)         (None, 37, 45, 15, 64)    110656    \n",
            "                                                                 \n",
            " max_pooling3d_70 (MaxPoolin  (None, 18, 22, 7, 64)    0         \n",
            " g3D)                                                            \n",
            "                                                                 \n",
            " conv3d_146 (Conv3D)         (None, 16, 20, 5, 128)    221312    \n",
            "                                                                 \n",
            " conv3d_147 (Conv3D)         (None, 14, 18, 3, 128)    442496    \n",
            "                                                                 \n",
            " max_pooling3d_71 (MaxPoolin  (None, 7, 9, 1, 128)     0         \n",
            " g3D)                                                            \n",
            "                                                                 \n",
            " batch_normalization_18 (Bat  (None, 7, 9, 1, 128)     512       \n",
            " chNormalization)                                                \n",
            "                                                                 \n",
            " global_average_pooling3d_15  (None, 128)              0         \n",
            "  (GlobalAveragePooling3D)                                       \n",
            "                                                                 \n",
            " dropout_22 (Dropout)        (None, 128)               0         \n",
            "                                                                 \n",
            " dense_57 (Dense)            (None, 2048)              264192    \n",
            "                                                                 \n",
            " dropout_23 (Dropout)        (None, 2048)              0         \n",
            "                                                                 \n",
            " dense_58 (Dense)            (None, 64)                131136    \n",
            "                                                                 \n",
            " dense_59 (Dense)            (None, 1)                 65        \n",
            "                                                                 \n",
            "=================================================================\n",
            "Total params: 1,208,705\n",
            "Trainable params: 1,208,449\n",
            "Non-trainable params: 256\n",
            "_________________________________________________________________\n"
          ]
        }
      ]
    },
    {
      "cell_type": "code",
      "source": [
        "from tensorflow.keras.losses import BinaryCrossentropy\n",
        "from tensorflow.keras.optimizers import Adam\n",
        "from tensorflow.keras.metrics import TruePositives, FalsePositives, TrueNegatives, FalseNegatives, BinaryAccuracy, Precision, Recall, AUC\n",
        "from tensorflow.keras.metrics import SpecificityAtSensitivity\n",
        "from numpy.random import seed\n",
        "METRICS = [\n",
        "      TruePositives(name='tp'),\n",
        "      FalsePositives(name='fp'),\n",
        "      TrueNegatives(name='tn'),\n",
        "      FalseNegatives(name='fn'), \n",
        "      BinaryAccuracy(name='accuracy'),\n",
        "      Precision(name='precision'),\n",
        "      Recall(name='recall'),\n",
        "      AUC(name='auc'),\n",
        "      SpecificityAtSensitivity(sensitivity=0.8, name='sensitivity'),\n",
        "]\n",
        "seed(1)\n",
        "#run with GPU\n",
        "with tf.device('/device:GPU:0'):\n",
        "# Compile model.\n",
        "  initial_learning_rate = 0.0001\n",
        "  lr_schedule = keras.optimizers.schedules.ExponentialDecay(\n",
        "      initial_learning_rate, decay_steps=100000, decay_rate=0.96, staircase=True\n",
        "  )\n",
        "  model.compile(\n",
        "      loss=\"binary_crossentropy\",\n",
        "      optimizer=keras.optimizers.Adam(learning_rate=0.0001),\n",
        "      metrics=METRICS,\n",
        "  )\n",
        "\n",
        "  # Define callbacks.\n",
        "  checkpoint_cb = keras.callbacks.ModelCheckpoint(\n",
        "      \"3d_image_classification.h5\", save_best_only=True\n",
        "  )\n",
        "  \n",
        "  # Fit model\n",
        "  epochs = 100\n",
        "  model.fit(\n",
        "      train_ds.batch(batch_size=batch_size),\n",
        "      validation_data=validation_ds.batch(batch_size=batch_size),\n",
        "      epochs=epochs,\n",
        "      shuffle=True,\n",
        "      verbose=2,\n",
        "      callbacks=[checkpoint_cb],\n",
        "  )"
      ],
      "metadata": {
        "colab": {
          "base_uri": "https://localhost:8080/"
        },
        "id": "x0uTqKR3Sscu",
        "outputId": "ab6e902a-c809-46da-b73a-079c23a6df4d"
      },
      "execution_count": null,
      "outputs": [
        {
          "output_type": "stream",
          "name": "stdout",
          "text": [
            "Epoch 1/100\n",
            "8/8 - 12s - loss: 0.7101 - tp: 22.0000 - fp: 31.0000 - tn: 35.0000 - fn: 40.0000 - accuracy: 0.4453 - precision: 0.4151 - recall: 0.3548 - auc: 0.4453 - sensitivity: 0.1364 - val_loss: 0.6930 - val_tp: 17.0000 - val_fp: 14.0000 - val_tn: 0.0000e+00 - val_fn: 1.0000 - val_accuracy: 0.5312 - val_precision: 0.5484 - val_recall: 0.9444 - val_auc: 0.4802 - val_sensitivity: 0.0000e+00 - 12s/epoch - 2s/step\n",
            "Epoch 2/100\n",
            "8/8 - 9s - loss: 0.6867 - tp: 35.0000 - fp: 26.0000 - tn: 40.0000 - fn: 27.0000 - accuracy: 0.5859 - precision: 0.5738 - recall: 0.5645 - auc: 0.5968 - sensitivity: 0.2424 - val_loss: 0.6939 - val_tp: 14.0000 - val_fp: 13.0000 - val_tn: 1.0000 - val_fn: 4.0000 - val_accuracy: 0.4688 - val_precision: 0.5185 - val_recall: 0.7778 - val_auc: 0.3829 - val_sensitivity: 0.0000e+00 - 9s/epoch - 1s/step\n",
            "Epoch 3/100\n",
            "8/8 - 9s - loss: 0.6484 - tp: 44.0000 - fp: 26.0000 - tn: 40.0000 - fn: 18.0000 - accuracy: 0.6562 - precision: 0.6286 - recall: 0.7097 - auc: 0.6860 - sensitivity: 0.3636 - val_loss: 0.6939 - val_tp: 10.0000 - val_fp: 10.0000 - val_tn: 4.0000 - val_fn: 8.0000 - val_accuracy: 0.4375 - val_precision: 0.5000 - val_recall: 0.5556 - val_auc: 0.3968 - val_sensitivity: 0.0000e+00 - 9s/epoch - 1s/step\n",
            "Epoch 4/100\n",
            "8/8 - 9s - loss: 0.6651 - tp: 41.0000 - fp: 30.0000 - tn: 36.0000 - fn: 21.0000 - accuracy: 0.6016 - precision: 0.5775 - recall: 0.6613 - auc: 0.6376 - sensitivity: 0.3485 - val_loss: 0.6941 - val_tp: 10.0000 - val_fp: 11.0000 - val_tn: 3.0000 - val_fn: 8.0000 - val_accuracy: 0.4062 - val_precision: 0.4762 - val_recall: 0.5556 - val_auc: 0.4087 - val_sensitivity: 0.0000e+00 - 9s/epoch - 1s/step\n",
            "Epoch 5/100\n",
            "8/8 - 9s - loss: 0.6595 - tp: 40.0000 - fp: 29.0000 - tn: 37.0000 - fn: 22.0000 - accuracy: 0.6016 - precision: 0.5797 - recall: 0.6452 - auc: 0.6410 - sensitivity: 0.4242 - val_loss: 0.6939 - val_tp: 10.0000 - val_fp: 8.0000 - val_tn: 6.0000 - val_fn: 8.0000 - val_accuracy: 0.5000 - val_precision: 0.5556 - val_recall: 0.5556 - val_auc: 0.4464 - val_sensitivity: 0.0000e+00 - 9s/epoch - 1s/step\n",
            "Epoch 6/100\n",
            "8/8 - 9s - loss: 0.6843 - tp: 43.0000 - fp: 29.0000 - tn: 37.0000 - fn: 19.0000 - accuracy: 0.6250 - precision: 0.5972 - recall: 0.6935 - auc: 0.6202 - sensitivity: 0.3030 - val_loss: 0.6939 - val_tp: 11.0000 - val_fp: 9.0000 - val_tn: 5.0000 - val_fn: 7.0000 - val_accuracy: 0.5000 - val_precision: 0.5500 - val_recall: 0.6111 - val_auc: 0.4226 - val_sensitivity: 0.0000e+00 - 9s/epoch - 1s/step\n",
            "Epoch 7/100\n",
            "8/8 - 9s - loss: 0.6617 - tp: 34.0000 - fp: 24.0000 - tn: 42.0000 - fn: 28.0000 - accuracy: 0.5938 - precision: 0.5862 - recall: 0.5484 - auc: 0.6150 - sensitivity: 0.3636 - val_loss: 0.6942 - val_tp: 11.0000 - val_fp: 10.0000 - val_tn: 4.0000 - val_fn: 7.0000 - val_accuracy: 0.4688 - val_precision: 0.5238 - val_recall: 0.6111 - val_auc: 0.4127 - val_sensitivity: 0.0000e+00 - 9s/epoch - 1s/step\n",
            "Epoch 8/100\n",
            "8/8 - 9s - loss: 0.6573 - tp: 41.0000 - fp: 29.0000 - tn: 37.0000 - fn: 21.0000 - accuracy: 0.6094 - precision: 0.5857 - recall: 0.6613 - auc: 0.6720 - sensitivity: 0.3030 - val_loss: 0.6947 - val_tp: 11.0000 - val_fp: 11.0000 - val_tn: 3.0000 - val_fn: 7.0000 - val_accuracy: 0.4375 - val_precision: 0.5000 - val_recall: 0.6111 - val_auc: 0.4067 - val_sensitivity: 0.0000e+00 - 9s/epoch - 1s/step\n",
            "Epoch 9/100\n",
            "8/8 - 9s - loss: 0.6570 - tp: 38.0000 - fp: 25.0000 - tn: 41.0000 - fn: 24.0000 - accuracy: 0.6172 - precision: 0.6032 - recall: 0.6129 - auc: 0.6579 - sensitivity: 0.3333 - val_loss: 0.6944 - val_tp: 10.0000 - val_fp: 10.0000 - val_tn: 4.0000 - val_fn: 8.0000 - val_accuracy: 0.4375 - val_precision: 0.5000 - val_recall: 0.5556 - val_auc: 0.4147 - val_sensitivity: 0.0000e+00 - 9s/epoch - 1s/step\n",
            "Epoch 10/100\n"
          ]
        }
      ]
    },
    {
      "cell_type": "code",
      "source": [
        "score_test = model.evaluate(test_ds.batch(batch_size))\n",
        "for name, value in zip(model.metrics_names, score_test):\n",
        "    print(name, ': ', value)"
      ],
      "metadata": {
        "colab": {
          "base_uri": "https://localhost:8080/"
        },
        "id": "BFONX1Idu4Il",
        "outputId": "30ab4031-a6fe-4e7a-8e56-745c8364a623"
      },
      "execution_count": 61,
      "outputs": [
        {
          "output_type": "stream",
          "name": "stdout",
          "text": [
            "3/3 [==============================] - 1s 281ms/step - loss: 3.3283 - tp: 0.0000e+00 - fp: 1.0000 - tn: 17.0000 - fn: 20.0000 - accuracy: 0.4474 - precision: 0.0000e+00 - recall: 0.0000e+00 - auc: 0.5306 - sensitivity: 0.0000e+00\n",
            "loss :  3.3282716274261475\n",
            "tp :  0.0\n",
            "fp :  1.0\n",
            "tn :  17.0\n",
            "fn :  20.0\n",
            "accuracy :  0.44736841320991516\n",
            "precision :  0.0\n",
            "recall :  0.0\n",
            "auc :  0.5305555462837219\n",
            "sensitivity :  0.0\n"
          ]
        }
      ]
    }
  ],
  "metadata": {
    "colab": {
      "collapsed_sections": [],
      "name": "CNN_GPU.ipynb",
      "provenance": [],
      "machine_shape": "hm"
    },
    "kernelspec": {
      "display_name": "Python 3",
      "name": "python3"
    },
    "accelerator": "GPU"
  },
  "nbformat": 4,
  "nbformat_minor": 0
}